{
  "nbformat": 4,
  "nbformat_minor": 0,
  "metadata": {
    "colab": {
      "name": "hello world",
      "provenance": [],
      "collapsed_sections": [],
      "authorship_tag": "ABX9TyOFx7FNnXDaQ4u0JLIwzbQ8",
      "include_colab_link": true
    },
    "kernelspec": {
      "name": "python3",
      "display_name": "Python 3"
    },
    "language_info": {
      "name": "python"
    }
  },
  "cells": [
    {
      "cell_type": "markdown",
      "metadata": {
        "id": "view-in-github",
        "colab_type": "text"
      },
      "source": [
        "<a href=\"https://colab.research.google.com/github/abuchholz15/Aden-s-Repository/blob/main/hello_world.ipynb\" target=\"_parent\"><img src=\"https://colab.research.google.com/assets/colab-badge.svg\" alt=\"Open In Colab\"/></a>"
      ]
    },
    {
      "cell_type": "markdown",
      "source": [
        "# This is my first colab page\n",
        "\n",
        "\n"
      ],
      "metadata": {
        "id": "dB3sNmrcRUmw"
      }
    },
    {
      "cell_type": "code",
      "execution_count": 5,
      "metadata": {
        "id": "SbE0E69VRB4T",
        "colab": {
          "base_uri": "https://localhost:8080/"
        },
        "outputId": "64e8e422-5c23-468a-bcd9-ace1fd2af56a"
      },
      "outputs": [
        {
          "output_type": "stream",
          "name": "stdout",
          "text": [
            "Hello World\n",
            "yeay!\n"
          ]
        }
      ],
      "source": [
        "print (\"Hello World\")\n",
        "print (\"yeay!\")"
      ]
    }
  ]
}